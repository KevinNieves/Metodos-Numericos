{
 "cells": [
  {
   "cell_type": "code",
   "execution_count": 2,
   "metadata": {
    "collapsed": false
   },
   "outputs": [
    {
     "name": "stdout",
     "output_type": "stream",
     "text": [
      "Valores de la funcion cuadratica: \n",
      "x: 1 \t valor: 0.000000 \n",
      "x: 2 \t valor: 0.565844 \n",
      "x: 3 \t valor: 1.027942 \n",
      "x: 4 \t valor: 1.386294 \n",
      "x: 5 \t valor: 1.640900 \n",
      "x: 6 \t valor: 1.791760 \n"
     ]
    }
   ],
   "source": [
    "import math\n",
    "import numpy as np\n",
    "import matplotlib.pyplot as plt\n",
    "\n",
    "x = [1,2,3,4,5,6]\n",
    "t = np.linspace(1.0, 6.0, num=100)\n",
    "array_lnx = []\n",
    "array_interpolacion = []\n",
    "array_funlnx = []\n",
    "def ln_x():\n",
    "    global array_lnx\n",
    "    global array_interpolacion\n",
    "    xo = 1\n",
    "    x1 = 4\n",
    "    x2 = 6\n",
    "    \n",
    "    for xi in x:\n",
    "        puntos_funcion = math.log(xi)\n",
    "        if(xo<=6):\n",
    "            b0 = (math.log(xo))\n",
    "            b1 = ((math.log(x1)-math.log(xo))/(x1-xo))\n",
    "            b2 = (((math.log(x2) - math.log(x1))/(x2-x1)) - ((math.log(x1) - math.log(xo))/(x1-xo)))/(x2-xo)\n",
    "            funcion = ((0.4620981*(xi-1)) - (0.0518731*(xi-1)*(xi-4)))\n",
    "            x1=x1+1\n",
    "            xo=xo+1\n",
    "            x2=x2+1\n",
    "        print \"x: %d \\t valor: %f \"%(xi,funcion)\n",
    "        array_lnx.append(puntos_funcion)\n",
    "        array_interpolacion.append(funcion)\n",
    "        \n",
    "    \n",
    "def lnx():\n",
    "    global array_funlnx,t\n",
    "    for i in t:\n",
    "        array_funlnx.append(math.log(i))\n",
    "    \n",
    "    \n",
    "def graficar():\n",
    "    plt.plot(x,array_interpolacion,'--',label=\"interpolacion\")\n",
    "    plt.plot(t,array_funlnx,label=\"funcion Ln(x)\")\n",
    "    plt.plot(x,array_lnx,'o')\n",
    "    plt.legend(loc=\"lower right\")\n",
    "    plt.show()\n",
    "print \"Valores de la funcion cuadratica: \"    \n",
    "ln_x()\n",
    "lnx()\n",
    "graficar()"
   ]
  },
  {
   "cell_type": "code",
   "execution_count": null,
   "metadata": {
    "collapsed": true
   },
   "outputs": [],
   "source": []
  },
  {
   "cell_type": "code",
   "execution_count": null,
   "metadata": {
    "collapsed": true
   },
   "outputs": [],
   "source": []
  },
  {
   "cell_type": "code",
   "execution_count": null,
   "metadata": {
    "collapsed": true
   },
   "outputs": [],
   "source": []
  }
 ],
 "metadata": {
  "kernelspec": {
   "display_name": "Python 2",
   "language": "python",
   "name": "python2"
  },
  "language_info": {
   "codemirror_mode": {
    "name": "ipython",
    "version": 2
   },
   "file_extension": ".py",
   "mimetype": "text/x-python",
   "name": "python",
   "nbconvert_exporter": "python",
   "pygments_lexer": "ipython2",
   "version": "2.7.10"
  }
 },
 "nbformat": 4,
 "nbformat_minor": 0
}
