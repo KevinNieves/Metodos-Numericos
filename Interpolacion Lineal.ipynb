{
 "cells": [
  {
   "cell_type": "code",
   "execution_count": 1,
   "metadata": {
    "collapsed": false
   },
   "outputs": [
    {
     "name": "stdout",
     "output_type": "stream",
     "text": [
      "0.0\n",
      "0.69314718056\n",
      "1.09861228867\n",
      "1.38629436112\n",
      "1.60943791243\n",
      "1.79175946923\n"
     ]
    }
   ],
   "source": [
    "import math\n",
    "import numpy as np\n",
    "import matplotlib.pyplot as plt\n",
    "\n",
    "x = [1,2,3,4,5,6]\n",
    "t = np.linspace(1.0, 6.0, num=100)\n",
    "array_lnx = []\n",
    "array_interpolacion = []\n",
    "array_funlnx = []\n",
    "def ln_x():\n",
    "    global array_lnx\n",
    "    global array_interpolacion\n",
    "    xo = 1\n",
    "    x1 = 2\n",
    "    \n",
    "    for xi in x:\n",
    "        puntos_funcion = math.log(xi)\n",
    "        if(xo<=6):\n",
    "            funcion = (math.log(xo)) + (((math.log(x1)-math.log(xo))/(x1-xo))*(xi-xo))\n",
    "            x1=x1+1\n",
    "            xo=xo+1\n",
    "        print funcion\n",
    "        array_lnx.append(puntos_funcion)\n",
    "        array_interpolacion.append(funcion)\n",
    "        \n",
    "    \n",
    "def lnx():\n",
    "    global array_funlnx,t\n",
    "    for i in t:\n",
    "        array_funlnx.append(math.log(i))\n",
    "    \n",
    "    \n",
    "def graficar():\n",
    "    global t\n",
    "    plt.plot(x,array_interpolacion,'--',label=\"interpolacion\")\n",
    "    plt.plot(t,array_funlnx,label=\"funcion Ln(x)\")\n",
    "    plt.plot(x,array_lnx,'o')\n",
    "    plt.legend(loc=\"lower right\")\n",
    "    plt.show()\n",
    "    \n",
    "ln_x()\n",
    "lnx()\n",
    "graficar()"
   ]
  },
  {
   "cell_type": "code",
   "execution_count": null,
   "metadata": {
    "collapsed": true
   },
   "outputs": [],
   "source": []
  },
  {
   "cell_type": "code",
   "execution_count": null,
   "metadata": {
    "collapsed": true
   },
   "outputs": [],
   "source": []
  }
 ],
 "metadata": {
  "kernelspec": {
   "display_name": "Python 2",
   "language": "python",
   "name": "python2"
  },
  "language_info": {
   "codemirror_mode": {
    "name": "ipython",
    "version": 2
   },
   "file_extension": ".py",
   "mimetype": "text/x-python",
   "name": "python",
   "nbconvert_exporter": "python",
   "pygments_lexer": "ipython2",
   "version": "2.7.10"
  }
 },
 "nbformat": 4,
 "nbformat_minor": 0
}
