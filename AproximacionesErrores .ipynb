{
 "cells": [
  {
   "cell_type": "code",
   "execution_count": 1,
   "metadata": {
    "collapsed": false
   },
   "outputs": [
    {
     "name": "stdout",
     "output_type": "stream",
     "text": [
      "Termino: 1    Resultado: 1.0000    Et: 0.0000    Ea: 99.9000       Es: 0.05\n",
      "Termino: 2    Resultado: 1.5000    Et: 9.0204    Ea: 33.3333       Es: 0.05\n",
      "Termino: 3    Resultado: 1.6250    Et: 1.4388    Ea: 7.6923       Es: 0.05\n",
      "Termino: 4    Resultado: 1.6458    Et: 0.1751    Ea: 1.2658       Es: 0.05\n",
      "Termino: 5    Resultado: 1.6484    Et: 0.0172    Ea: 0.1580       Es: 0.05\n",
      "Termino: 6    Resultado: 1.6487    Et: 0.0014    Ea: 0.0158       Es: 0.05\n"
     ]
    }
   ],
   "source": [
    "import math\n",
    "valor_real = 1.648721\n",
    "x = 0.5\n",
    "cont = 0\n",
    "actual = 0.0\n",
    "anterior = 0.0\n",
    "fact = 0.0  #lleva la secuencia \n",
    "n = 3       #numero de decimales\n",
    "et = 0.0    #error verdadero\n",
    "ea = 99.9    #error aproximado\n",
    "er = 0.0    #error relativo porcentual\n",
    "es = (x*10**(2-n))  #numero aceptable fijado\n",
    "\n",
    "\n",
    "while ea>=es : \n",
    "    anterior = fact\n",
    "    fact = ((x**cont)/math.factorial(cont))+fact            #terminos del factorial\n",
    "    actual = fact\n",
    "    if fact != 1:\n",
    "        et = (((valor_real - fact)/valor_real))*100             #error real\n",
    "        ea = ((actual - anterior)/actual)*100\n",
    "    print \"Termino: \"+str(cont+1)+\"    Resultado: \"+str(\"%.4f\"%fact)+\"    Et: \"+str(\"%.4f\"%et)+\"    Ea: \"+str(\"%.4f\"%ea)+\"       Es: \"+ str(es)\n",
    "   \n",
    "    cont = cont+1\n",
    "    \n",
    "\n",
    "    "
   ]
  },
  {
   "cell_type": "code",
   "execution_count": null,
   "metadata": {
    "collapsed": true
   },
   "outputs": [],
   "source": []
  }
 ],
 "metadata": {
  "kernelspec": {
   "display_name": "Python 2",
   "language": "python",
   "name": "python2"
  },
  "language_info": {
   "codemirror_mode": {
    "name": "ipython",
    "version": 2
   },
   "file_extension": ".py",
   "mimetype": "text/x-python",
   "name": "python",
   "nbconvert_exporter": "python",
   "pygments_lexer": "ipython2",
   "version": "2.7.10"
  }
 },
 "nbformat": 4,
 "nbformat_minor": 0
}
