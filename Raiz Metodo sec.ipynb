{
 "cells": [
  {
   "cell_type": "code",
   "execution_count": 4,
   "metadata": {
    "collapsed": false
   },
   "outputs": [
    {
     "name": "stdout",
     "output_type": "stream",
     "text": [
      "i: 0      Xi: 0.000000000       Err_a: 100.000000000       Err_t: 8.032634360\n",
      "i: 1      Xi: 0.612699837       Err_a: 8.665860388       Err_t: 0.582727663\n",
      "i: 2      Xi: 0.563838389       Err_a: 0.587472390       Err_t: 0.004772766\n",
      "i: 3      Xi: 0.567170358       Err_a: 0.004769838       Err_t: 0.000002928\n",
      "i: 4      Xi: 0.567143307       Err_a: 0.000002856       Err_t: 0.000000072\n",
      "i: 5      Xi: 0.567143290       Err_a: 0.000000000       Err_t: 0.000000072\n",
      "i: 6      Xi: 0.567143290       Err_a: 0.000000000       Err_t: 0.000000072\n",
      "i: 7      Xi: 0.567143290       Err_a: 0.000000000       Err_t: 0.000000072\n",
      "i: 8      Xi: 0.567143290       Err_a: 0.000000000       Err_t: 0.000000072\n"
     ]
    }
   ],
   "source": [
    "from pylab import *\n",
    "\n",
    "class MyClass(object):\n",
    "    \n",
    "    \n",
    "    Ximenos=0.0\n",
    "    Xi=0.0\n",
    "    Ximas=0.0\n",
    "    \n",
    "    def  z(x):\n",
    "        Fx=math.e**(-x) - x\n",
    "        return Fx\n",
    "    z = staticmethod(z)\n",
    "    \n",
    "    def cal():\n",
    "            \n",
    "        i=0.0\n",
    "        Ximenos=0\n",
    "        Xi=1\n",
    "        Ximas=0.0\n",
    "        \n",
    "        while i<=5:\n",
    "            anterior=Ximas\n",
    "            Ximas= Xi - (MyClass.z(Xi)*(Xi-Ximenos))/(MyClass.z(Xi)-MyClass.z(Ximenos))\n",
    "            actual=Ximas\n",
    "            \n",
    "            ea=abs((actual-anterior)/actual)*100\n",
    "            et=abs((0.56714329-actual)/0.56714329)*100\n",
    "            print \"i: %d      Xi: %.9f       Err_a: %.9f       Err_t: %.9f\"%(i,anterior,ea,et)\n",
    "            Ximenos=Xi\n",
    "            Xi=Ximas\n",
    "            i=i+1  \n",
    "            \n",
    "    cal = staticmethod(cal)\n",
    "\n",
    "j=MyClass.cal()\n",
    "    "
   ]
  },
  {
   "cell_type": "code",
   "execution_count": null,
   "metadata": {
    "collapsed": true
   },
   "outputs": [],
   "source": []
  }
 ],
 "metadata": {
  "kernelspec": {
   "display_name": "Python 2",
   "language": "python",
   "name": "python2"
  },
  "language_info": {
   "codemirror_mode": {
    "name": "ipython",
    "version": 2
   },
   "file_extension": ".py",
   "mimetype": "text/x-python",
   "name": "python",
   "nbconvert_exporter": "python",
   "pygments_lexer": "ipython2",
   "version": "2.7.10"
  }
 },
 "nbformat": 4,
 "nbformat_minor": 0
}
