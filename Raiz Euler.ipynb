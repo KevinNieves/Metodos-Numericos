{
 "cells": [
  {
   "cell_type": "code",
   "execution_count": 10,
   "metadata": {
    "collapsed": false
   },
   "outputs": [
    {
     "name": "stdout",
     "output_type": "stream",
     "text": [
      "i: 0.000000      Xi: 0.00            Xii: 1.000000        Err_a: 100.000000       Err_t: 76.322284\n",
      "i: 1.000000      Xi: 1.00            Xii: 0.367879        Err_a: 171.828183       Err_t: 35.134657\n",
      "i: 2.000000      Xi: 0.37            Xii: 0.692201        Err_a: 46.853639       Err_t: 22.050395\n",
      "i: 3.000000      Xi: 0.69            Xii: 0.500474        Err_a: 38.309147       Err_t: 11.755370\n",
      "i: 4.000000      Xi: 0.50            Xii: 0.606244        Err_a: 17.446790       Err_t: 6.894245\n",
      "i: 5.000000      Xi: 0.61            Xii: 0.545396        Err_a: 11.156623       Err_t: 3.834570\n",
      "i: 6.000000      Xi: 0.55            Xii: 0.579612        Err_a: 5.903351       Err_t: 2.198571\n",
      "i: 7.000000      Xi: 0.58            Xii: 0.560115        Err_a: 3.480867       Err_t: 1.239163\n",
      "i: 8.000000      Xi: 0.56            Xii: 0.571143        Err_a: 1.930804       Err_t: 0.705258\n",
      "i: 9.000000      Xi: 0.57            Xii: 0.564879        Err_a: 1.108868       Err_t: 0.399184\n",
      "i: 10.000000      Xi: 0.56            Xii: 0.568429        Err_a: 0.624419       Err_t: 0.226651\n"
     ]
    }
   ],
   "source": [
    "import math \n",
    "import numpy as np\n",
    "import pylab as pl\n",
    "from pylab import *\n",
    "\n",
    "class MyClass(object):\n",
    "    \n",
    "    xx=0.0\n",
    "    anterior=0.0\n",
    "    actual=0.0\n",
    "    \n",
    "    def  z(x):\n",
    "        Fx=math.e**(-x)\n",
    "        return Fx\n",
    "    z = staticmethod(z)\n",
    "    \n",
    "    def  y(x):\n",
    "        Fx=math.e**(-x)\n",
    "        return Fx\n",
    "    y = staticmethod(y)\n",
    "    \n",
    "    def cal():\n",
    "            \n",
    "        i=0.0\n",
    "        x=0.0 \n",
    "        xx=0.0\n",
    "        while i<=10:\n",
    "            anterior=xx\n",
    "            xx=MyClass.z(x) \n",
    "            actual=xx\n",
    "            ea=abs((actual-anterior)/actual)*100\n",
    "            et=abs((0.56714329-actual)/0.56714329)*100\n",
    "            print \"i: %f      Xi: %.2f            Xii: %f        Err_a: %f       Err_t: %f\"%(i,x,xx,ea,et)\n",
    "            x=xx\n",
    "            i=i+1  \n",
    "            \n",
    "    cal = staticmethod(cal)\n",
    "    \n",
    "    def gra():\n",
    "        \n",
    "        i=-2.0\n",
    "        x=0.0 \n",
    "        lista=[]\n",
    "        \n",
    "        while i<=2:\n",
    "            x=MyClass.z(i) \n",
    "            lista.append(x)\n",
    "            i=i+1 \n",
    "            \n",
    "        pl.plot(lista)\n",
    "        pl.title(\"Funcion : e^(-x)\")\n",
    "        pl.show() \n",
    "    gra = staticmethod(gra)\n",
    "        \n",
    "k=MyClass.gra()       \n",
    "j=MyClass.cal()"
   ]
  },
  {
   "cell_type": "code",
   "execution_count": null,
   "metadata": {
    "collapsed": true
   },
   "outputs": [],
   "source": []
  }
 ],
 "metadata": {
  "kernelspec": {
   "display_name": "Python 2",
   "language": "python",
   "name": "python2"
  },
  "language_info": {
   "codemirror_mode": {
    "name": "ipython",
    "version": 2
   },
   "file_extension": ".py",
   "mimetype": "text/x-python",
   "name": "python",
   "nbconvert_exporter": "python",
   "pygments_lexer": "ipython2",
   "version": "2.7.10"
  }
 },
 "nbformat": 4,
 "nbformat_minor": 0
}
