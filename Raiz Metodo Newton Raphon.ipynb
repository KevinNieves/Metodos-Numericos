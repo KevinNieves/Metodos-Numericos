{
 "cells": [
  {
   "cell_type": "code",
   "execution_count": 1,
   "metadata": {
    "collapsed": false
   },
   "outputs": [
    {
     "name": "stdout",
     "output_type": "stream",
     "text": [
      "i: 0      Xi: 0.000000000       Err_a: 100.000000000       Err_t: 11.838858219\n",
      "i: 1      Xi: 0.500000000       Err_a: 11.709290977       Err_t: 0.146750710\n",
      "i: 2      Xi: 0.566311003       Err_a: 0.146728708       Err_t: 0.000022034\n",
      "i: 3      Xi: 0.567143165       Err_a: 0.000022106       Err_t: 0.000000072\n",
      "i: 4      Xi: 0.567143290       Err_a: 0.000000000       Err_t: 0.000000072\n",
      "i: 5      Xi: 0.567143290       Err_a: 0.000000000       Err_t: 0.000000072\n",
      "i: 6      Xi: 0.567143290       Err_a: 0.000000000       Err_t: 0.000000072\n",
      "i: 7      Xi: 0.567143290       Err_a: 0.000000000       Err_t: 0.000000072\n",
      "i: 8      Xi: 0.567143290       Err_a: 0.000000000       Err_t: 0.000000072\n"
     ]
    }
   ],
   "source": [
    "import math \n",
    "import numpy as np\n",
    "import pylab as pl\n",
    "from pylab import *\n",
    "\n",
    "class MyClass(object):\n",
    "    \n",
    "    xx=0.0\n",
    "    anterior=0.0\n",
    "    actual=0.0\n",
    "    \n",
    "    def  z(x):\n",
    "        Fx=math.e**(-x) - x\n",
    "        return Fx\n",
    "    z = staticmethod(z)\n",
    "    \n",
    "    def  y(x):\n",
    "        Gx=-(math.e**(-x))-1\n",
    "        return Gx\n",
    "    y = staticmethod(y)\n",
    "    \n",
    "    def cal():\n",
    "            \n",
    "        i=0.0\n",
    "        x=0 \n",
    "        xx=0.0\n",
    "        \n",
    "        while i<=5:\n",
    "            anterior=xx\n",
    "            xx=x-(MyClass.z(x)/MyClass.y(x))\n",
    "            actual=xx\n",
    "            ea=abs((actual-anterior)/actual)*100\n",
    "            et=abs((0.56714329-actual)/0.56714329)*100\n",
    "            print \"i: %d      Xi: %.9f       Err_a: %.9f       Err_t: %.9f\"%(i,anterior,ea,et)\n",
    "            x=xx\n",
    "            i=i+1  \n",
    "            \n",
    "    cal = staticmethod(cal)\n",
    "\n",
    "j=MyClass.cal()\n",
    "    "
   ]
  },
  {
   "cell_type": "code",
   "execution_count": null,
   "metadata": {
    "collapsed": true
   },
   "outputs": [],
   "source": []
  }
 ],
 "metadata": {
  "kernelspec": {
   "display_name": "Python 2",
   "language": "python",
   "name": "python2"
  },
  "language_info": {
   "codemirror_mode": {
    "name": "ipython",
    "version": 2
   },
   "file_extension": ".py",
   "mimetype": "text/x-python",
   "name": "python",
   "nbconvert_exporter": "python",
   "pygments_lexer": "ipython2",
   "version": "2.7.10"
  }
 },
 "nbformat": 4,
 "nbformat_minor": 0
}
