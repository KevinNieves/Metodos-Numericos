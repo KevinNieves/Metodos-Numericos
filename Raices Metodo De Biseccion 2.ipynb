{
 "cells": [
  {
   "cell_type": "code",
   "execution_count": null,
   "metadata": {
    "collapsed": true
   },
   "outputs": [],
   "source": []
  },
  {
   "cell_type": "code",
   "execution_count": 13,
   "metadata": {
    "collapsed": false
   },
   "outputs": [
    {
     "name": "stdout",
     "output_type": "stream",
     "text": [
      "i: 0  \t    Xr: 0.500000000   \t    Err_a: 100.000000000   \t    Err_r: 100.000000000\n",
      "i: 1  \t    Xr: 0.650000000   \t    Err_a: 23.076923077   \t    Err_r: 11.838858219\n",
      "i: 2  \t    Xr: 0.575000000   \t    Err_a: 13.043478261   \t    Err_r: 14.609484316\n",
      "i: 3  \t    Xr: 0.537500000   \t    Err_a: 6.976744186   \t    Err_r: 1.385313048\n",
      "i: 4  \t    Xr: 0.556250000   \t    Err_a: 3.370786517   \t    Err_r: 5.226772585\n",
      "i: 5  \t    Xr: 0.565625000   \t    Err_a: 1.657458564   \t    Err_r: 1.920729768\n",
      "i: 6  \t    Xr: 0.570312500   \t    Err_a: 0.821917808   \t    Err_r: 0.267708360\n",
      "i: 7  \t    Xr: 0.567968750   \t    Err_a: 0.412654746   \t    Err_r: 0.558802344\n",
      "i: 8  \t    Xr: 0.566796875   \t    Err_a: 0.206753963   \t    Err_r: 0.145546992\n",
      "i: 9  \t    Xr: 0.567382812   \t    Err_a: 0.103270224   \t    Err_r: 0.061080684\n",
      "i: 10  \t    Xr: 0.567089844   \t    Err_a: 0.051661787   \t    Err_r: 0.042233154\n",
      "i: 11  \t    Xr: 0.567236328   \t    Err_a: 0.025824223   \t    Err_r: 0.009423765\n",
      "i: 12  \t    Xr: 0.567163086   \t    Err_a: 0.012913779   \t    Err_r: 0.016404695\n",
      "i: 13  \t    Xr: 0.567126465   \t    Err_a: 0.006457306   \t    Err_r: 0.003490465\n",
      "i: 14  \t    Xr: 0.567144775   \t    Err_a: 0.003228549   \t    Err_r: 0.002966650\n",
      "i: 15  \t    Xr: 0.567135620   \t    Err_a: 0.001614301   \t    Err_r: 0.000261907\n",
      "i: 16  \t    Xr: 0.567140198   \t    Err_a: 0.000807144   \t    Err_r: 0.001352371\n"
     ]
    }
   ],
   "source": [
    "import math\n",
    "import numpy as np\n",
    "import matplotlib.pyplot as plt\n",
    "\n",
    "def bisecc(x):\n",
    "    \n",
    "    fx = math.exp(-x) - x\n",
    "    return fx\n",
    "\n",
    "def cal():\n",
    "    listfuncion=[]\n",
    "    j=-2\n",
    "    while j<= 2:\n",
    "        listfuncion.append(bisecc(j))\n",
    "        j=j+1\n",
    "\n",
    "    Es = 1*(10**(-3))\n",
    "    Ea = 1\n",
    "    xl = 0.2\n",
    "    xu = 0.8\n",
    "    anterior = 0\n",
    "    i = 0\n",
    "    \n",
    "    if(bisecc(xl)*bisecc(xu)<0):\n",
    "        \n",
    "        while Ea >= Es :\n",
    "            xr = (xu + xl)/2\n",
    "            inferior = bisecc(xl)\n",
    "            superior = bisecc(xu)\n",
    "            funcion = bisecc(xr)\n",
    "\n",
    "            if((inferior*funcion)<0):\n",
    "                xu = xr\n",
    "                Ea = (abs(xr - anterior)/xr)*100\n",
    "                Er = abs(((0.56714329 - anterior)/0.56714329)*100)\n",
    "                anterior = xr\n",
    "                \n",
    "            elif((inferior*funcion)>0):\n",
    "                xl = xr\n",
    "                Ea = (abs(xr - anterior)/xr)*100\n",
    "                Er = abs(((0.56714329 - anterior)/0.56714329)*100)\n",
    "                anterior = xr\n",
    "                \n",
    "            elif((inferior*funcion)==0):\n",
    "        \n",
    "                print \"El valor de la Raiz es: \", xr\n",
    "            \n",
    "            print \"i: %d  \\t    Xr: %.9f   \\t    Err_a: %.9f   \\t    Err_r: %.9f\"%(i,xr,Ea,Er)\n",
    "            \n",
    "            i=i+1\n",
    "            \n",
    "    plt.subplot(2,1,1)\n",
    "    plt.title(\"Metodo De Biseccion\")\n",
    "    plt.plot(listfuncion,label = \"Funcion: e^(-x) - x\")\n",
    "    plt.legend(loc=\"upper right\")\n",
    "    plt.show()\n",
    "\n",
    "cal()\n"
   ]
  },
  {
   "cell_type": "code",
   "execution_count": null,
   "metadata": {
    "collapsed": true
   },
   "outputs": [],
   "source": []
  }
 ],
 "metadata": {
  "kernelspec": {
   "display_name": "Python 2",
   "language": "python",
   "name": "python2"
  }
 },
 "nbformat": 4,
 "nbformat_minor": 0
}
