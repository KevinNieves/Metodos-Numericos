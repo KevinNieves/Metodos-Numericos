{
 "cells": [
  {
   "cell_type": "code",
   "execution_count": 91,
   "metadata": {
    "collapsed": false
   },
   "outputs": [
    {
     "name": "stdout",
     "output_type": "stream",
     "text": [
      "valor real:  -0.912500\n",
      "                                  con h = 0.500 \n",
      "                 Dif.atras:  -0.550    Dif.centrada:  -1.000    Dif.delante:  -1.450\n",
      "                                  con h = 0.250 \n",
      "                 Dif.atras:  -0.714    Dif.centrada:  -0.934    Dif.delante:  -1.155\n"
     ]
    }
   ],
   "source": [
    "import math \n",
    "class MyClass(object):\n",
    "    x=0.0 #equivale a Xi-1\n",
    "    xi=0.5 #xi\n",
    "    xii=1.0 #Xi+1\n",
    "    derivada=0.0\n",
    "    ecuacion=0.0\n",
    "    dcentrada=0.0\n",
    "    datras=0.0\n",
    "\n",
    "    def  z(x):\n",
    "        derivada=(-0.4*(x**3)-0.45*(x**2)-1*(x**1)-0.25)#valor real de la derivada\n",
    "        print \"valor real:  %f\"%derivada\n",
    "    z = staticmethod(z)   \n",
    "    \n",
    "    def f(x):\n",
    "        ecuacion =(-0.1)*(x**4)-0.15*(x**3)-0.5*(x**2)-0.25*x+1.2#ecuacion original del polinomio\n",
    "        return ecuacion\n",
    "    f = staticmethod(f)\n",
    "    \n",
    "    def cal(a,b,c,d):\n",
    "        \n",
    "        x=a #equivale a Xi-1\n",
    "        xi=b#xi\n",
    "        xii=c #Xi+1\n",
    "        h=d\n",
    "        \n",
    "        ddelante= (MyClass.f(xii)-MyClass.f(xi))/(xii-xi)\n",
    "        dcentrada=(MyClass.f(xii)-MyClass.f(x))/(2*h)\n",
    "        datras=(MyClass.f(xi)-MyClass.f(x))/(xii-xi)\n",
    "        print \"                                  con h = %.3f \"%h\n",
    "        print \"                 Dif.atras:  %.3f    Dif.centrada:  %.3f    Dif.delante:  %.3f\"%(datras,dcentrada,ddelante)\n",
    "\n",
    "    cal = staticmethod(cal)\n",
    "b=MyClass.z(0.5)\n",
    "a=MyClass.cal(0.0,0.5,1.0,0.5)\n",
    "a=MyClass.cal(0.25,0.5,0.75,0.25)\n",
    "\n",
    "    \n",
    "\n",
    "   \n"
   ]
  },
  {
   "cell_type": "code",
   "execution_count": null,
   "metadata": {
    "collapsed": true
   },
   "outputs": [],
   "source": []
  }
 ],
 "metadata": {
  "kernelspec": {
   "display_name": "Python 2",
   "language": "python",
   "name": "python2"
  },
  "language_info": {
   "codemirror_mode": {
    "name": "ipython",
    "version": 2
   },
   "file_extension": ".py",
   "mimetype": "text/x-python",
   "name": "python",
   "nbconvert_exporter": "python",
   "pygments_lexer": "ipython2",
   "version": "2.7.10"
  }
 },
 "nbformat": 4,
 "nbformat_minor": 0
}
