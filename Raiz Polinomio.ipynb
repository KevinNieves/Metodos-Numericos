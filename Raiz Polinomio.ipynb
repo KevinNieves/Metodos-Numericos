{
 "cells": [
  {
   "cell_type": "code",
   "execution_count": 20,
   "metadata": {
    "collapsed": false
   },
   "outputs": [
    {
     "name": "stdout",
     "output_type": "stream",
     "text": [
      "i:0.000000                 Xi:0.00                                Xii:1.5000  \n",
      "i:1.000000                 Xi:1.50                                Xii:2.6250  \n",
      "i:2.000000                 Xi:2.62                                Xii:4.9453  \n",
      "i:3.000000                 Xi:4.95                                Xii:13.7281  \n",
      "i:4.000000                 Xi:13.73                                Xii:95.7298  \n",
      "i:5.000000                 Xi:95.73                                Xii:4583.5960  \n",
      "i:6.000000                 Xi:4583.60                                Xii:10504677.6210  \n",
      "i:7.000000                 Xi:10504677.62                                Xii:55174125960344.5156  \n",
      "i:8.000000                 Xi:55174125960344.52                                Xii:1522092087743981308447031296.0000  \n",
      "i:9.000000                 Xi:1522092087743981308447031296.00                                Xii:1158382161786415918468013277774436247488820060346122240.0000  \n",
      "i:10.000000                 Xi:1158382161786415918468013277774436247488820060346122240.00                                Xii:670924616372485107406753536473875753085128108159160479142499428346323036382502323327575710124655927541891072.0000  \n"
     ]
    }
   ],
   "source": [
    "import math \n",
    "import numpy as np\n",
    "import pylab as pl\n",
    "from pylab import *\n",
    "\n",
    "class MyClass(object):\n",
    "    \n",
    "    xx=0.0\n",
    "    \n",
    "    def  z(x):\n",
    "        Fx=(3+(x**2))/2\n",
    "        return Fx\n",
    "    z = staticmethod(z)\n",
    "    \n",
    "    def  y(x):\n",
    "        Fx=(x**2)-(2*x)+3\n",
    "        return Fx\n",
    "    y = staticmethod(y)\n",
    "    \n",
    "    def cal():\n",
    "            \n",
    "        i=0.0\n",
    "        x=0.0 \n",
    "        \n",
    "        while i<=10:\n",
    "            xx=MyClass.z(x) \n",
    "            print \"i:%f                 Xi:%.2f                                Xii:%.4f  \"%(i,x,xx)\n",
    "            x=xx\n",
    "            i=i+1  \n",
    "            \n",
    "    cal = staticmethod(cal)\n",
    "    \n",
    "    def gra():\n",
    "        \n",
    "        i=-20.0\n",
    "        x=0.0 \n",
    "        lista=[]\n",
    "        \n",
    "        while i<=20:\n",
    "            x=MyClass.z(i) \n",
    "            lista.append(x)\n",
    "            i=i+1 \n",
    "            \n",
    "        pl.plot(lista)\n",
    "        pl.title(\"Funcion : x^2-2x+3\")\n",
    "        pl.show() \n",
    "    gra = staticmethod(gra)\n",
    "        \n",
    "k=MyClass.gra()       \n",
    "j=MyClass.cal()\n"
   ]
  },
  {
   "cell_type": "code",
   "execution_count": null,
   "metadata": {
    "collapsed": true
   },
   "outputs": [],
   "source": []
  },
  {
   "cell_type": "code",
   "execution_count": null,
   "metadata": {
    "collapsed": true
   },
   "outputs": [],
   "source": []
  }
 ],
 "metadata": {
  "kernelspec": {
   "display_name": "Python 2",
   "language": "python",
   "name": "python2"
  },
  "language_info": {
   "codemirror_mode": {
    "name": "ipython",
    "version": 2
   },
   "file_extension": ".py",
   "mimetype": "text/x-python",
   "name": "python",
   "nbconvert_exporter": "python",
   "pygments_lexer": "ipython2",
   "version": "2.7.10"
  }
 },
 "nbformat": 4,
 "nbformat_minor": 0
}
