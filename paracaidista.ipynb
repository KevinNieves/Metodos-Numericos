{
 "cells": [
  {
   "cell_type": "code",
   "execution_count": 6,
   "metadata": {
    "collapsed": false
   },
   "outputs": [
    {
     "name": "stdout",
     "output_type": "stream",
     "text": [
      "Tiempo: 0       sol.Analit: 0.0000       Sol.Aprox: 0.0000       Error: 2.7183\n",
      "Tiempo: 2       sol.Analit: 16.4050       Sol.Aprox: 19.6000       Error: -3.1950\n",
      "Tiempo: 4       sol.Analit: 27.7693       Sol.Aprox: 32.0047       Error: -4.2354\n",
      "Tiempo: 6       sol.Analit: 35.6418       Sol.Aprox: 39.8555       Error: -4.2138\n",
      "Tiempo: 8       sol.Analit: 41.0953       Sol.Aprox: 44.8243       Error: -3.7290\n",
      "Tiempo: 10       sol.Analit: 44.8731       Sol.Aprox: 47.9690       Error: -3.0958\n",
      "Tiempo: 12       sol.Analit: 47.4902       Sol.Aprox: 49.9592       Error: -2.4690\n",
      "Tiempo: 14       sol.Analit: 49.3031       Sol.Aprox: 51.2188       Error: -1.9157\n",
      "Tiempo: 16       sol.Analit: 50.5590       Sol.Aprox: 52.0160       Error: -1.4570\n",
      "Tiempo: 18       sol.Analit: 51.4290       Sol.Aprox: 52.5206       Error: -1.0916\n"
     ]
    }
   ],
   "source": [
    "import math\n",
    "import numpy as np\n",
    "import pylab as pl\n",
    "\n",
    "v = 0.0    #velocidaed\n",
    "va = 0.0   #Velocidad Aproximada\n",
    "m = 68.1   #Masa\n",
    "c = 12.5   #Resistencia\n",
    "g = 9.8    #Gravedad\n",
    "t = 0   #Tempo\n",
    "e =  math.e\n",
    "t_an = 0\n",
    "t_ac = 0\n",
    "err = 0\n",
    "cnt = 0\n",
    "xx = []\n",
    "yy = []\n",
    "tt = []\n",
    "controlcero = 0\n",
    "\n",
    "while t< 20:\n",
    "    \n",
    "    if t==0 :\n",
    "        print \"Tiempo: \"+str(t)+\"       sol.Analit: \"+str(\"%.4f\"%v)+\"       Sol.Aprox: \"+str(\"%.4f\"%va)+\"       Error: \"+str(\"%.4f\"%e)\n",
    "        t_an= t\n",
    "        t = t + 2\n",
    "        t_ac = t\n",
    "    else:\n",
    "        v =((g*m)/c)*(1-e**(-(c/m)*t))  # Velocidad analitica exacta\n",
    "        va = va + (g-((c/m)*va))*(t_ac - t_an) # velocidad Numerica aproximada\n",
    "        err = v - va\n",
    "        tt.append(\"%.4f\"%t)\n",
    "        xx.append(\"%.4f\"%v)\n",
    "        yy.append(\"%.4f\"%va)\n",
    "        cnt = cnt + 1\n",
    "        print \"Tiempo: \"+str(t)+\"       sol.Analit: \"+str(\"%.4f\"%v)+\"       Sol.Aprox: \"+str(\"%.4f\"%va)+\"       Error: \"+str(\"%.4f\"%err)\n",
    "       \n",
    "        t_an= t\n",
    "        t = t + 2\n",
    "        t_ac = t\n",
    "        \n",
    "#print (\"Array: \",xx)\n",
    "pl.plot(tt,xx ,'r')\n",
    "pl.plot(tt, yy ,'g--')\n",
    "pl.title(\"velocidades analitica y N. aproximada\")\n",
    "pl.ylabel(\"Vlc. analitica y aproxim (m/s)\")\n",
    "pl.xlabel(\"Tiempo (s)\")\n",
    "pl.ylim(0.0, 70.0)\n",
    "pl.xlim(0.0, 25.0)\n",
    "pl.show()\n",
    "    "
   ]
  },
  {
   "cell_type": "code",
   "execution_count": null,
   "metadata": {
    "collapsed": true
   },
   "outputs": [],
   "source": []
  }
 ],
 "metadata": {
  "kernelspec": {
   "display_name": "Python 2",
   "language": "python",
   "name": "python2"
  },
  "language_info": {
   "codemirror_mode": {
    "name": "ipython",
    "version": 2
   },
   "file_extension": ".py",
   "mimetype": "text/x-python",
   "name": "python",
   "nbconvert_exporter": "python",
   "pygments_lexer": "ipython2",
   "version": "2.7.10"
  }
 },
 "nbformat": 4,
 "nbformat_minor": 0
}
