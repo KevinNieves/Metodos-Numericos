{
 "cells": [
  {
   "cell_type": "code",
   "execution_count": 2,
   "metadata": {
    "collapsed": false
   },
   "outputs": [],
   "source": [
    "import math\n",
    "x=math.pi/4\n",
    "x2=math.pi/3 \n",
    "orden=0\n",
    "h=x2-x\n",
    "def f(x):\n",
    "    i=0\n",
    "    abst=0.5\n",
    "    valor=0.0\n",
    "    while(i<=6):\n",
    "        if(i==0):\n",
    "            valor=valor+math.cos(x)*(h**0)/math.factorial(i)\n",
    "        if(i==1):\n",
    "            valor+=(-(math.sin(x))*(h**1))/math.factorial(i)\n",
    "        if(i==2):\n",
    "            valor=valor+math.cos(x)*(h**2)*(-1)/math.factorial(i)\n",
    "        if(i==3):\n",
    "            valor=valor+math.sin(x)*(h**3)/math.factorial(i)\n",
    "        if(i==4):\n",
    "            valor=valor+math.cos(x)*(h**4)/math.factorial(i)\n",
    "        if(i==5):\n",
    "            valor=valor+math.sin(x)*(h**5)*(-1)/math.factorial(i)\n",
    "        if(i==6):\n",
    "            valor=valor+math.cos(x)*(h**6)*(-1)/math.factorial(i)\n",
    "        error=((abst-valor)/abst)*100\n",
    "        print \"f^%d (pi/3)=  %f    Error= %f\"%(i,valor,error)\n",
    "        i=i+1 \n",
    "   \n",
    "        \n",
    "            \n",
    "        "
   ]
  },
  {
   "cell_type": "code",
   "execution_count": 3,
   "metadata": {
    "collapsed": false
   },
   "outputs": [
    {
     "name": "stdout",
     "output_type": "stream",
     "text": [
      "f^0 (pi/3)=  0.707107    Error= -41.421356\n",
      "f^1 (pi/3)=  0.521987    Error= -4.397332\n",
      "f^2 (pi/3)=  0.497754    Error= 0.449102\n",
      "f^3 (pi/3)=  0.499869    Error= 0.026171\n",
      "f^4 (pi/3)=  0.500008    Error= -0.001510\n",
      "f^5 (pi/3)=  0.500000    Error= -0.000061\n",
      "f^6 (pi/3)=  0.500000    Error= 0.000002\n"
     ]
    }
   ],
   "source": [
    "f(x)"
   ]
  },
  {
   "cell_type": "code",
   "execution_count": null,
   "metadata": {
    "collapsed": true
   },
   "outputs": [],
   "source": []
  }
 ],
 "metadata": {
  "kernelspec": {
   "display_name": "Python 2",
   "language": "python",
   "name": "python2"
  },
  "language_info": {
   "codemirror_mode": {
    "name": "ipython",
    "version": 2
   },
   "file_extension": ".py",
   "mimetype": "text/x-python",
   "name": "python",
   "nbconvert_exporter": "python",
   "pygments_lexer": "ipython2",
   "version": "2.7.10"
  }
 },
 "nbformat": 4,
 "nbformat_minor": 0
}
